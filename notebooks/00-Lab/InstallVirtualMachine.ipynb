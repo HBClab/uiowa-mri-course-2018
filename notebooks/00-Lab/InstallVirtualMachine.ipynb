{
 "cells": [
  {
   "cell_type": "markdown",
   "metadata": {},
   "source": [
    "# Lab 0: InstallVirtualMachine\n",
    "In this lab you will be installing a Virtual Machine on your computer, allowing you run [FSL](https://fsl.fmrib.ox.ac.uk/fsl/fslwiki/), [AFNI](https://afni.nimh.nih.gov/), [freesurfer](https://surfer.nmr.mgh.harvard.edu/), and [nipype](http://nipype.readthedocs.io/en/0.13.1/) on your computer. These are primarily the softwares that we will be using for analysis of MRI and fMRI data throughout the class. This software runs well on Linux and Mac OS X. However, it has limitations under Windows. Therefore, you will be using a Virtual Linux machine that can be run under any operating system.\n",
    "\n",
    "**Brief description of neuroimaging packages**\n",
    "-  FSL: collection of preprocessing/statistical analysis tools\n",
    "-  AFNI: collection of preprocessing/statistical analysis tools\n",
    "-  freesurfer: brain surface analysis tools\n",
    "-  nipype: python umbrella to combine FSL, AFNI, and freesurfer under one roof\n",
    "\n",
    "#### **Alternative Instructions**\n",
    "- This will give a different perspective on downloading a virtual machine, potentially worth the read.\n",
    "- [Similar instructions from Neurodebian](http://neuro.debian.net/vm.html#neurodebian-virtual-machine)\n",
    "\n",
    "*Estimated Time to Complete 00-Lab*: 70 minutes (including download time) "
   ]
  },
  {
   "cell_type": "markdown",
   "metadata": {},
   "source": [
    "**Resource**\n",
    "\n",
    "This is a video running through the tutorial, in case you want some visually guided steps"
   ]
  },
  {
   "cell_type": "code",
   "execution_count": 1,
   "metadata": {},
   "outputs": [
    {
     "data": {
      "text/html": [
       "<iframe width=\"560\" height=\"315\" src=\"https://www.youtube.com/embed/xpVdYDY2rfQ\" frameborder=\"0\" gesture=\"media\" allowfullscreen></iframe>"
      ],
      "text/plain": [
       "<IPython.core.display.HTML object>"
      ]
     },
     "execution_count": 1,
     "metadata": {},
     "output_type": "execute_result"
    }
   ],
   "source": [
    "# video running through tutorial\n",
    "from IPython.display import HTML\n",
    "HTML('<iframe width=\"560\" height=\"315\" src=\"https://www.youtube.com/embed/xpVdYDY2rfQ\" frameborder=\"0\" gesture=\"media\" allowfullscreen></iframe>')"
   ]
  },
  {
   "cell_type": "markdown",
   "metadata": {},
   "source": [
    "## Step 0: [Download VirtualBox]( https://www.virtualbox.org/wiki/Downloads)\n",
    "*time estimate: 4 minutes*\n",
    "\n",
    "Follow the link after \"Step 0\" to be directed to the virtualbox homepage and click to download the latest version for your operating system (Windows, Mac osx, linux). Virtualbox is the utility that will handle and run the virtual machine.\n",
    "\n",
    "### NOTES\n",
    "- Download may take few minutes\n",
    "- Follow the instructions for the installer and just use the defaults"
   ]
  },
  {
   "cell_type": "markdown",
   "metadata": {},
   "source": [
    "## Step 1: [Download Vagrant](https://www.vagrantup.com/downloads.html)\n",
    "*time estimate: 4 minutes*\n",
    "\n",
    "Follow the link after \"Step 1\" to be directed to the vagrant homepage. You will see 32bit and 64bit download versions if you are using windows or linux. If you are in doubt, use the 64bit version, this is  the most likely case for your computer. \n",
    "\n",
    "### NOTES\n",
    "- Download may take few minutes\n",
    "- Follow the instructions for the installer and just use the defaults"
   ]
  },
  {
   "cell_type": "markdown",
   "metadata": {},
   "source": [
    "## Step 2: [Download The class Git Repository](https://github.com/HBClab/uiowa-mri-course-2018/archive/master.zip)\n",
    "*time estimate: 1 minute*\n",
    "\n",
    "This zip file will contain the configuration needed to properly install your virtual machine using vagrant. Unzip this file and be aware where the unzipped directory is (probably in your downloads)."
   ]
  },
  {
   "cell_type": "markdown",
   "metadata": {},
   "source": [
    "## Step 3: Start up the virtual machine\n",
    "*time estimate: 60 minutes*\n",
    "\n",
    "### Windows\n",
    "1. [Open up powershell](https://winaero.com/blog/all-ways-to-open-powershell-in-windows-10/)\n",
    "2. Change directories (cd) into the folder where you unzipped the class git repository), like so (assuming it's in downloads):\n",
    "```bash\n",
    "cd .\\Downloads\\uiowa-mri-course-2018-master\\uiowa-mri-course-2018-master\\\n",
    "```\n",
    "3. In that directory type the following in powershell:\n",
    "```bash\n",
    "vagrant.exe up | tee vagrant.log\n",
    "```\n",
    "4. While the configuration is happening you can use the virtual machine for basic tasks. Skip to step 6 for further instructions.\n",
    "\n",
    "### Mac OSX\n",
    "Upcoming...\n",
    "Similar, but different. (one difference is the backslashes (\\) become forward slashes (/) \n",
    "\n",
    "#### NOTES\n",
    "- This will take up to an hour to complete, so make sure your computer is plugged in and has a reliable connection!\n",
    "- The Graphical User Interface (GUI) of the virtual machine will appear during this process, this is normal. It will log you into the virtual machine and you will have access to the virtual environment.\n",
    "- There will a gratutitous amount of output on the terminal/poweshell screen (an ungodly amount), this is normal.\n",
    "- If you believe something didn't happen correctly, contact jdkent on [slack](https://slack.com/).\n",
    "- If you accidently go into another directory type `cd ~` to go back to the original directory like when you opened powershell."
   ]
  },
  {
   "cell_type": "markdown",
   "metadata": {},
   "source": [
    "## Step 4: Check the Virtual Machine on VirtualBox\n",
    "*time estimate: 1 minute*\n",
    "\n",
    "Step 3 set up and configured the virtual machine for us on virtualbox, but we didn't *see* it happen. So to confirm the virtual machine exists, and to get you used to opening the virtual machine, we will look at it manually.\n",
    "\n",
    "1. Click on the virtualbox icon on your desktop screen\n",
    "![virtualbox_icon](files/img/virtualbox_icon.png \"friendly neighborhood hover text\")\n",
    "2. There should a virtualbox named uiowa-mri-course-2018 and it should be running if you didn't close out of the box. It should look similar to the following:\n",
    "![virtualbox_screen](files/img/virtualbox_screen.png \"moar hover text\")\n",
    "3. Try closing out of the virtual machine by hitting \"X\" on the window the virtual machine is running on. This should give you a couple options to save the machine state, send the shutdown signal, or power down the machine. Select power down the machine. **WARNING**: Only do this after [step 3](http://localhost:8888/notebooks/InstallVirtualMachine.ipynb#Step-3:-Start-up-the-virtual-machine) has fully completed. "
   ]
  },
  {
   "cell_type": "markdown",
   "metadata": {},
   "source": [
    "## Step 5: Troubleshooting\n",
    "If anything went wrong please contact mwvoss or jdkent on [slack](https://slack.com/)"
   ]
  },
  {
   "cell_type": "markdown",
   "metadata": {},
   "source": [
    "## Step 6: Further Reading/Resources\n",
    "*the time spent on this is not calculated in the lab time*\n",
    "Inside the virtual machine, you should be able navigate around and surf the web as if it were a normal operating system. To get introduced to the commandline, which we will be using for the semester (in addition to jupyter notebooks), do the following:\n",
    "1. Along the bottom of the screen there are six icons, but one will be a black box that kind of looks like a retro computer screen, click on that one. Should look similar to the following:\n",
    "![terminal_icon](files/img/terminal_icon.png \"stop hovering on me!!\")\n",
    "2. You may see some startup text that ends with a dollar sign ($) and a greenbar cursor\n",
    "![terminal_screen](files/img/terminal_screen.png \"seriously\")\n",
    "3. Open up [this guide](http://swcarpentry.github.io/shell-novice/) (using the virtual machine web browser) and follow along!\n"
   ]
  },
  {
   "cell_type": "markdown",
   "metadata": {
    "collapsed": true
   },
   "source": [
    "### The More You Know...\n",
    "**Q**: Why do I start counting with 0?\n",
    "\n",
    "**A**: In *most* (looking at you MATLAB) programming languages, all arrays (think of a list of items, steps like in this lab, or labs, like the labs in this repository) [start at zero](http://developeronline.blogspot.com/2008/04/why-array-index-should-start-from-0.html). So if you had a list of numbered items in your grocery list, the first item (or element) would be at index 0, not at index 1. MATLAB is the problem child because the [inventor](https://en.wikipedia.org/wiki/Cleve_Moler) had more background in Linear Algebra/Matrix notation, in which indexing starts at 1."
   ]
  },
  {
   "cell_type": "code",
   "execution_count": null,
   "metadata": {
    "collapsed": true
   },
   "outputs": [],
   "source": []
  }
 ],
 "metadata": {
  "kernelspec": {
   "display_name": "Python 3",
   "language": "python",
   "name": "python3"
  },
  "language_info": {
   "codemirror_mode": {
    "name": "ipython",
    "version": 3
   },
   "file_extension": ".py",
   "mimetype": "text/x-python",
   "name": "python",
   "nbconvert_exporter": "python",
   "pygments_lexer": "ipython3",
   "version": "3.6.1"
  }
 },
 "nbformat": 4,
 "nbformat_minor": 2
}
