{
 "cells": [
  {
   "cell_type": "markdown",
   "metadata": {},
   "source": [
    "# Lab 0: InstallVirtualMachine\n",
    "The purpose of this lab is two fold. First, you will be installing a Virtual Machine on your computer, allowing you run [FSL](https://fsl.fmrib.ox.ac.uk/fsl/fslwiki/), [AFNI](https://afni.nimh.nih.gov/), [freesurfer](https://surfer.nmr.mgh.harvard.edu/), and [nipype](http://nipype.readthedocs.io/en/0.13.1/) on your computer. These are primarily the softwares that we will be using for analysis of MRI and fMRI data throughout the class. This software runs well on Linux and Mac OS X. However, it has limitations under Windows. Therefore, you will be using a Virtual Linux machine that can be run under any operating system. Second, you will practice basic terminal usage, shell scripting, and image manipulation.\n",
    "\n",
    "**Brief description of neuroimaging packages**\n",
    "-  FSL: collection of preprocessing/statistical analysis tools\n",
    "-  AFNI: collection of preprocessing/statistical analysis tools\n",
    "-  freesurfer: brain surface analysis tools\n",
    "-  nipype: python umbrella to combine FSL, AFNI, and freesurfer under one roof\n",
    "\n",
    "**Alternative Instructions**\n",
    "\n",
    "[Similar instructions from Neurodebian](http://neuro.debian.net/vm.html#neurodebian-virtual-machine)\n",
    "\n",
    "*Estimated Time to Complete*: 60 minutes (including download time) "
   ]
  },
  {
   "cell_type": "markdown",
   "metadata": {},
   "source": [
    "**Resource**\n",
    "\n",
    "This is a video running through the tutorial, in case you want some visually guided steps"
   ]
  },
  {
   "cell_type": "code",
   "execution_count": 1,
   "metadata": {},
   "outputs": [
    {
     "data": {
      "text/html": [
       "<iframe width=\"560\" height=\"315\" src=\"https://www.youtube.com/embed/JD1XZpL8CTw\" frameborder=\"0\" gesture=\"media\" allowfullscreen></iframe>"
      ],
      "text/plain": [
       "<IPython.core.display.HTML object>"
      ]
     },
     "execution_count": 1,
     "metadata": {},
     "output_type": "execute_result"
    }
   ],
   "source": [
    "# video running through tutorial\n",
    "from IPython.display import HTML\n",
    "HTML('<iframe width=\"560\" height=\"315\" src=\"https://www.youtube.com/embed/JD1XZpL8CTw\" frameborder=\"0\" gesture=\"media\" allowfullscreen></iframe>')"
   ]
  },
  {
   "cell_type": "markdown",
   "metadata": {},
   "source": [
    "## Step 0: [Download VirtualBox]( https://www.virtualbox.org/wiki/Downloads)\n",
    "\n",
    "Follow the link after \"Step 0\" to be directed to the virtualbox homepage and click to download the latest version for your operating system (Windows, Mac osx, linux).\n",
    "\n",
    "\n"
   ]
  },
  {
   "cell_type": "markdown",
   "metadata": {},
   "source": [
    "## Step 1: [Download the Neurodebian VM](http://neuro.debian.net/debian/vm/NeuroDebian_8.0.0_amd64.ova)\n",
    "\n",
    "Follow the link after \"Step 1\" to automatically download the neurodebian virtual machine. The link will start the download automatically."
   ]
  },
  {
   "cell_type": "markdown",
   "metadata": {},
   "source": [
    "## Step 2: Import the Neurodebian VM to Virtualbox\n",
    "-  Start the VirtualBox program (from the desktop icon)\n",
    "-  Select file->import appliance (from the top menu)\n",
    "-  Select the neurodebian (\\*.ova) file (in the downloads folder/directory)\n",
    "-  Configure the settings\n",
    "    -  If you have 4 threads (cpu cores) on your laptop, let the Neurodebian VM have 2.\n",
    "    -  Give the neurodebian VM at least 2GB (2048MB) of RAM, up to half your total RAM.\n",
    "    -  Switch the Network Adapter to Paravirtualized Network.\n",
    "-  Select \"import\" and let VirtualBox import the configured Neurodebian VM"
   ]
  },
  {
   "cell_type": "markdown",
   "metadata": {},
   "source": [
    "## Step 3: [Download Package Installer](https://www.dropbox.com/s/1f8j4u2d0yhyw1i/neurodebian_install.sh?dl=0)\n",
    "\n",
    "-  right click the above link (after Step 3:) and select \"copy link address\"\n",
    "-  **WITHIN THE NEURODEBIAN VM**: open the internet browser and paste the link into the browser, download the file.\n",
    "-  select the computer screen symbol at the bottom of your screen. A \"terminal\" should pop up.\n",
    "-  within the terminal, type the following:\n",
    "```bash\n",
    "cd ~/Downloads # cd = change which directory (i.e. folder) I am in\n",
    "chmod +x neurodebian_install.sh # make the file I downloaded executable\n",
    "./neurodebian_install.sh | tee log.txt # run the file and log the output\n",
    "```\n",
    "**Warning**: if you copy/paste the commands, remember to press `control+shift+v` when pasting into the terminal since `control+v` aleady means something else."
   ]
  },
  {
   "cell_type": "markdown",
   "metadata": {},
   "source": [
    "## Step 4: Troubleshooting\n",
    "If anything went wrong please contact mwvoss or jdkent on [slack](https://slack.com/)"
   ]
  },
  {
   "cell_type": "markdown",
   "metadata": {},
   "source": [
    "## Step 5: Further Reading/Resources\n",
    "[Learning the commandline](http://swcarpentry.github.io/shell-novice/)"
   ]
  },
  {
   "cell_type": "markdown",
   "metadata": {
    "collapsed": true
   },
   "source": [
    "### The More You Know...\n",
    "**Q**: Why do start counting with 0?\n",
    "\n",
    "**A**: In *most* (looking at you MATLAB) programming languages, all counting starts at zero. So if you had a list of numbered items in your grocery list, the first item (or element) would be at index 0, not at index 1. MATLAB is the problem child because the [inventor](https://en.wikipedia.org/wiki/Cleve_Moler) had more background in Linear Algebra/Matrix notation concepts, in which indexing starts at 1."
   ]
  },
  {
   "cell_type": "code",
   "execution_count": null,
   "metadata": {
    "collapsed": true
   },
   "outputs": [],
   "source": []
  }
 ],
 "metadata": {
  "kernelspec": {
   "display_name": "Python 3",
   "language": "python",
   "name": "python3"
  },
  "language_info": {
   "codemirror_mode": {
    "name": "ipython",
    "version": 3
   },
   "file_extension": ".py",
   "mimetype": "text/x-python",
   "name": "python",
   "nbconvert_exporter": "python",
   "pygments_lexer": "ipython3",
   "version": "3.6.1"
  }
 },
 "nbformat": 4,
 "nbformat_minor": 2
}
